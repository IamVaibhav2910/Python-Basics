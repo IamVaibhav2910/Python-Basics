{
  "nbformat": 4,
  "nbformat_minor": 0,
  "metadata": {
    "colab": {
      "provenance": [],
      "collapsed_sections": [
        "PMp8tI_6DlXi"
      ]
    },
    "kernelspec": {
      "name": "python3",
      "display_name": "Python 3"
    },
    "language_info": {
      "name": "python"
    }
  },
  "cells": [
    {
      "cell_type": "markdown",
      "source": [
        "# Python Basics\n"
      ],
      "metadata": {
        "id": "ODV6FnUjHi1W"
      }
    },
    {
      "cell_type": "markdown",
      "source": [
        "## **Theoritical Questions**"
      ],
      "metadata": {
        "id": "PMp8tI_6DlXi"
      }
    },
    {
      "cell_type": "markdown",
      "source": [
        "Q1. What is Python, and why is it popular?\n",
        "- Python is a programming language that is easy to understand and write. It is very popular among developers and programmers as it has extensive liberaries and large number of active community of developers.\n",
        "\n",
        "Q2. What is an interpreter in Python?\n",
        "- An interpreter in Python is a program that runs python codes line by line without compilation.\n",
        "\n",
        "Q3. What are pre-defined keywords in Python?\n",
        "- Pre-defined keywords are reserved words in python that have special meaning and cannot be used as variables, functions, etc...\n",
        "\n",
        "Q4. Can keywords be used as variable names?\n",
        "- NO, keywords cannot be used as variable names because if we assign variable with keyword, and after we use that same as keyword in same code, it will throw error.\n",
        "\n",
        "Q5. What is mutability in Python?\n",
        "- Mutability in python object can be changable and modified after creation. For example:- Lists and dictionaries.\n",
        "\n",
        "Q6  Why are lists mutable, but tuples are immutable?\n",
        "- Once the list is created, it is changable and modified where as size and values of elements in tuples are fixed after creation.\n",
        "\n",
        "Q7. What is the difference between “==” and “is” operators in Python/\n",
        "- \"==\" operator is used for comparision of two values where as \"is\" operator is used to check the identity of two values. The output result in both the operators is a 'Boolean Value'.\n",
        "\n",
        "Q8. What are logical operators in Python?\n",
        "- Logical operators are \"And / Or/ Not\" operators which gives the output as Boolean value.  \n",
        "\n",
        "Q9. What is type casting in Python?\n",
        "- Type castinfg in python is the process of changing one data type to another.\n",
        "\n",
        "Q10. What is the difference between implicit and explicit type casting?\n",
        "- In implicit typecasting, python understand the data type and run the code automatically where as explicit typecasting converts data type using inbuilt functions.\n",
        "\n",
        "Q11. What is the purpose of conditional statements in Python?\n",
        "- Conditional statement helps you to code decision based on some precondition.\n",
        "\n",
        "Q12. How does the elif statement work?\n",
        "- When you write conditional statement and if \"if\" statement does not execute, the next i.e. the \"elif\" statement will executes if it is true as per the condition given.\n",
        "\n",
        "Q13. What is the difference between for and while loops?\n",
        "- In \"for\" loop, the code is executed as per the specific number of iterations where as in  \"while\" loop the iterations keep executing until the condition being met.\n",
        "\n",
        "Q14. Describe a scenario where a while loop is more suitable than a for loop?\n",
        "- In a Fixtures of Matches, when you want to know the total number of matches in a tournament, you can input the code with \"while\" loop instead of \"for\" loop."
      ],
      "metadata": {
        "id": "UQ-5BUJXH82L"
      }
    },
    {
      "cell_type": "markdown",
      "source": [
        "##**Practical Questions**"
      ],
      "metadata": {
        "id": "1Cu2E9KUNzC2"
      }
    },
    {
      "cell_type": "markdown",
      "source": [
        "Q1. Write a Python program to print \"Hello, World!\"?"
      ],
      "metadata": {
        "id": "1l7FUT-3ONHy"
      }
    },
    {
      "cell_type": "code",
      "source": [
        "print(\"Hello, World\")"
      ],
      "metadata": {
        "colab": {
          "base_uri": "https://localhost:8080/"
        },
        "id": "lt-qRlwTOCG0",
        "outputId": "c57af1f0-d01d-4e67-8ccf-50b068eabfd0"
      },
      "execution_count": null,
      "outputs": [
        {
          "output_type": "stream",
          "name": "stdout",
          "text": [
            "Hello, World\n"
          ]
        }
      ]
    },
    {
      "cell_type": "markdown",
      "source": [
        "Q2. Write a Python program that displays your name and age?"
      ],
      "metadata": {
        "id": "4Fist0g0PDdb"
      }
    },
    {
      "cell_type": "code",
      "source": [
        "Name=(\"Vaibhav Aggarwal\")\n",
        "Age=21\n",
        "print(\"My Name is \", Name)\n",
        "print(\"My Age is \", Age)"
      ],
      "metadata": {
        "colab": {
          "base_uri": "https://localhost:8080/"
        },
        "id": "oMRcARYXN7I8",
        "outputId": "3f429030-d24f-4fd5-f54b-9324b90e1f59"
      },
      "execution_count": null,
      "outputs": [
        {
          "output_type": "stream",
          "name": "stdout",
          "text": [
            "My Name is  Vaibhav Aggarwal\n",
            "My Age is  21\n"
          ]
        }
      ]
    },
    {
      "cell_type": "markdown",
      "source": [
        "Q3. Write code to print all the pre-defined keywords in Python using the keyword library."
      ],
      "metadata": {
        "id": "MyiZWW0rPoqJ"
      }
    },
    {
      "cell_type": "code",
      "source": [
        "import keyword\n",
        "print(keyword.kwlist)"
      ],
      "metadata": {
        "colab": {
          "base_uri": "https://localhost:8080/"
        },
        "id": "qV8ilW3jW-RA",
        "outputId": "e371acc5-4029-440e-caf9-1107a32a6dae"
      },
      "execution_count": null,
      "outputs": [
        {
          "output_type": "stream",
          "name": "stdout",
          "text": [
            "['False', 'None', 'True', 'and', 'as', 'assert', 'async', 'await', 'break', 'class', 'continue', 'def', 'del', 'elif', 'else', 'except', 'finally', 'for', 'from', 'global', 'if', 'import', 'in', 'is', 'lambda', 'nonlocal', 'not', 'or', 'pass', 'raise', 'return', 'try', 'while', 'with', 'yield']\n"
          ]
        }
      ]
    },
    {
      "cell_type": "markdown",
      "source": [
        "Q4.  Write a program that checks if a given word is a Python keyword."
      ],
      "metadata": {
        "id": "zwfGwtjIQYXX"
      }
    },
    {
      "cell_type": "code",
      "source": [
        "import keyword\n",
        "word = input(\"Enter any Keyword: \")\n",
        "if word in keyword.kwlist:\n",
        "  print(\"This is a Keyword\")\n",
        "else:\n",
        "  print(\"This is not a keyword\")"
      ],
      "metadata": {
        "colab": {
          "base_uri": "https://localhost:8080/"
        },
        "id": "oeoZfxzoQmIW",
        "outputId": "e2289e31-9403-4081-b7ad-4a94af71dcc1"
      },
      "execution_count": null,
      "outputs": [
        {
          "output_type": "stream",
          "name": "stdout",
          "text": [
            "Enter any Keyword: False\n",
            "This is a Keyword\n"
          ]
        }
      ]
    },
    {
      "cell_type": "markdown",
      "source": [
        "Q5.  Create a list and tuple in Python, and demonstrate how attempting to change an element works differently for each."
      ],
      "metadata": {
        "id": "ayKH11qhQYMc"
      }
    },
    {
      "cell_type": "code",
      "source": [
        "A=[1,8,\"My_name\", True, 4.5, \"etc\"]\n",
        "B=(7, False, \"My_City\", 9.2, \"Anything\")\n",
        "print(\"A is \", A)\n",
        "print(type(A))\n",
        "a= input(\"Change the 3rd Element of List 'A' :   \")\n",
        "A[3]=a\n",
        "print( A)\n",
        "print(\"\\n LIST IS MUTIBLE OR CHANGABLE.\")\n",
        "\n",
        "print(\"\\n\\n B is \", B)\n",
        "print(type(B))\n",
        "b= input(\"Lets Change the 4th Element of List 'B' :   \")\n",
        "B[4]==b\n",
        "if B[4] == b:\n",
        "  print(\"Tuples are Mutable and Can Changable\")\n",
        "else:\n",
        "  print(\"\\n ERROR.\")\n",
        "  print(\"\\n TUPLES ARE IMMUTIBLE AND CANNOT BE CHANGABLE.\")"
      ],
      "metadata": {
        "colab": {
          "base_uri": "https://localhost:8080/"
        },
        "id": "qGKFCJT4Y1HT",
        "outputId": "9d9d01ed-62a2-4dc7-9976-af42d7622cfa"
      },
      "execution_count": null,
      "outputs": [
        {
          "output_type": "stream",
          "name": "stdout",
          "text": [
            "A is  [1, 8, 'My_name', True, 4.5, 'etc']\n",
            "<class 'list'>\n",
            "Change the 3rd Element of List 'A' :   QWERTY\n",
            "[1, 8, 'My_name', 'QWERTY', 4.5, 'etc']\n",
            "\n",
            " LIST IS MUTIBLE OR CHANGABLE.\n",
            "\n",
            "\n",
            " B is  (7, False, 'My_City', 9.2, 'Anything')\n",
            "<class 'tuple'>\n",
            "Lets Change the 4th Element of List 'B' :   QWERTY\n",
            "\n",
            " ERROR.\n",
            "\n",
            " TUPLES ARE IMMUTIBLE AND CANNOT BE CHANGABLE.\n"
          ]
        }
      ]
    },
    {
      "cell_type": "markdown",
      "source": [
        "Q6. Write a function to demonstrate the behavior of mutable and immutable arguments."
      ],
      "metadata": {
        "id": "_u4sKTEwQXxG"
      }
    },
    {
      "cell_type": "code",
      "source": [
        "a = 5\n",
        "lst = [1, 2, 3]\n",
        "def change_values(a, lst):\n",
        "    a += 5\n",
        "    lst.append(4)\n",
        "change_values(a, lst)\n",
        "print(a)\n",
        "print(lst)"
      ],
      "metadata": {
        "id": "d3SG6oMifP-F",
        "colab": {
          "base_uri": "https://localhost:8080/"
        },
        "outputId": "41edc4e6-e96e-4071-c5f7-26d23ae2cb02"
      },
      "execution_count": 6,
      "outputs": [
        {
          "output_type": "stream",
          "name": "stdout",
          "text": [
            "5\n",
            "[1, 2, 3, 4]\n"
          ]
        }
      ]
    },
    {
      "cell_type": "markdown",
      "source": [
        "Q7.  Write a program that performs basic arithmetic operations on two user-input numbers."
      ],
      "metadata": {
        "id": "GJ9G1lQ_iY1d"
      }
    },
    {
      "cell_type": "code",
      "source": [
        "a = int(input(\"enter a number: \"))\n",
        "b = int(input(\"enter a number: \"))\n",
        "print(\"Sum of\",(a), \"and\", (b), \"is: \", (a+b))\n",
        "print(\"Subtraction of\",(a), \"and\", (b), \"is: \", (b-a))\n",
        "print(\"Multiplication of\",(a), \"and\", (b), \"is: \", (a*b))\n",
        "print(\"Division of\",(a), \"by\", (b), \"is: \", (a/b))"
      ],
      "metadata": {
        "colab": {
          "base_uri": "https://localhost:8080/"
        },
        "id": "F0U6XZF1krxt",
        "outputId": "99ca1698-1ed8-4b9c-b81c-f521af5b7be4"
      },
      "execution_count": null,
      "outputs": [
        {
          "output_type": "stream",
          "name": "stdout",
          "text": [
            "enter a number: 11\n",
            "enter a number: 22\n",
            "Sum of 11 and 22 is:  33\n",
            "Subtraction of 11 and 22 is:  11\n",
            "Multiplication of 11 and 22 is:  242\n",
            "Division of 11 by 22 is:  0.5\n"
          ]
        }
      ]
    },
    {
      "cell_type": "markdown",
      "source": [
        "Q8. Write a program to demonstrate the use of logical operators."
      ],
      "metadata": {
        "id": "LHFwow_fm_aQ"
      }
    },
    {
      "cell_type": "code",
      "source": [
        "#PROMOTION TO NEXT CLASS\n",
        "total_marks=int(input(\"Enter Total Marks:  \"))\n",
        "Attended_max_classses =True\n",
        "Not_Paid_Fees=False\n",
        "\n",
        "#Logical Operator \"AND\"\n",
        "if total_marks>=35 and Attended_max_classses:\n",
        "  print(\"The Student is Promoted\")\n",
        "else:\n",
        "  print(\"The Student needs to Repeat the Class\")\n",
        "\n",
        "  #logical Operator \"OR\"\n",
        "if total_marks>=35 or Not_Paid_Fees:\n",
        "  print(\"Clear the Previou Dues for Promotion\")\n",
        "elif total_marks<=34:\n",
        "  print(\"The Student needs to Repeat the Class\")\n",
        "else:\n",
        "  print(\"The Student is Promoted\")\n",
        "\n",
        "  #Logical Operator \"NOT\"\n",
        "if  not attended_max_classses:\n",
        "  print(\"Give a Logical Reason with Proof?\")\n",
        "elif total_marks<=34:\n",
        "  print(\"The Student needs to Repeat the Class\")\n",
        "else:\n",
        "  print(\"The Student is Promoted\")"
      ],
      "metadata": {
        "colab": {
          "base_uri": "https://localhost:8080/"
        },
        "id": "-eFod57npD6t",
        "outputId": "fb1b574e-9206-4beb-c429-9596854fa312"
      },
      "execution_count": null,
      "outputs": [
        {
          "output_type": "stream",
          "name": "stdout",
          "text": [
            "Enter Total Marks:  39\n",
            "The Student is Promoted\n",
            "Clear the Previou Dues\n",
            "The Student is Promoted\n"
          ]
        }
      ]
    },
    {
      "cell_type": "markdown",
      "source": [
        "Q9. Write a Python program to convert user input from string to integer, float, and boolean types."
      ],
      "metadata": {
        "id": "m6m-Gszzvu8j"
      }
    },
    {
      "cell_type": "code",
      "source": [
        " #I coded for numbes only because variable will never converted into integer and float and due to this, the output will throw error.\n",
        "a=str(input(\"Enter a Number:  \"))\n",
        "print(\"\\n\",str(a) )\n",
        "print(\"The number\",(a), \"is in String type\")\n",
        "print(type(str(a)))\n",
        "print(\"\\n\", int(a))\n",
        "print(\"The number\",(a), \"is in Integer type\")\n",
        "print(type(int(a)))\n",
        "print(\"\\n\", float(a))\n",
        "print(\"The number\",(a), \"is in Float type\")\n",
        "print(type(float(a)))\n",
        "print(\"\\n\", bool(a))\n",
        "print(\"The number\",(a), \"is in Boolean type\")\n",
        "print(type(bool(a)))"
      ],
      "metadata": {
        "colab": {
          "base_uri": "https://localhost:8080/"
        },
        "id": "77kWzMJn2xqx",
        "outputId": "b15b0d76-e5b8-4843-c46b-1a276a8e9ab7"
      },
      "execution_count": 4,
      "outputs": [
        {
          "output_type": "stream",
          "name": "stdout",
          "text": [
            "Enter a Number:  8\n",
            "\n",
            " 8\n",
            "The number 8 is in String type\n",
            "<class 'str'>\n",
            "\n",
            " 8\n",
            "The number 8 is in Integer type\n",
            "<class 'int'>\n",
            "\n",
            " 8.0\n",
            "The number 8 is in Float type\n",
            "<class 'float'>\n",
            "\n",
            " True\n",
            "The number 8 is in Boolean type\n",
            "<class 'bool'>\n"
          ]
        }
      ]
    },
    {
      "cell_type": "markdown",
      "source": [
        "Q10.  Write code to demonstrate type casting with list elements."
      ],
      "metadata": {
        "id": "aicpe1eS4Qh4"
      }
    },
    {
      "cell_type": "code",
      "source": [
        "#type casting list element of a float element into integer.\n",
        "a_list = [\"qwerty\", \"Cat\", 56 , 9.6, True]\n",
        "a_list[3] = int(a_list[3])\n",
        "print(a_list[3])"
      ],
      "metadata": {
        "colab": {
          "base_uri": "https://localhost:8080/"
        },
        "id": "y0TnpgKD4aMO",
        "outputId": "69c2ff57-074a-4b5c-a230-b8c4004a7d48"
      },
      "execution_count": null,
      "outputs": [
        {
          "output_type": "stream",
          "name": "stdout",
          "text": [
            "9\n"
          ]
        }
      ]
    },
    {
      "cell_type": "markdown",
      "source": [
        "Q11. Write a program that checks if a number is positive, negative, or zero."
      ],
      "metadata": {
        "id": "XK2q8nvB5Cr0"
      }
    },
    {
      "cell_type": "code",
      "source": [
        "n=int(input(\"Enter any Number:  \"))\n",
        "if n>=1:\n",
        "  print(\"The Number is Positive\")\n",
        "elif n<=-1:\n",
        "  print(\"The Number is Negative\")\n",
        "else:\n",
        "  print(\"The Number is Zero\")"
      ],
      "metadata": {
        "colab": {
          "base_uri": "https://localhost:8080/"
        },
        "id": "iJavnn5e5HKs",
        "outputId": "90d488be-d42a-4260-cd9f-7231d854c9cc"
      },
      "execution_count": null,
      "outputs": [
        {
          "output_type": "stream",
          "name": "stdout",
          "text": [
            "Enter any Number:  -12\n",
            "The Number is Negative\n"
          ]
        }
      ]
    },
    {
      "cell_type": "markdown",
      "source": [
        "Q12. Write a for loop to print numbers from 1 to 10."
      ],
      "metadata": {
        "id": "iuaHc_ok6MpW"
      }
    },
    {
      "cell_type": "code",
      "source": [
        "for a in range(1,11):\n",
        "  print(a)"
      ],
      "metadata": {
        "colab": {
          "base_uri": "https://localhost:8080/"
        },
        "id": "W9GLhcVN6RZj",
        "outputId": "10a062b5-7f12-4b26-b7f6-93dcc38801ce"
      },
      "execution_count": null,
      "outputs": [
        {
          "output_type": "stream",
          "name": "stdout",
          "text": [
            "1\n",
            "2\n",
            "3\n",
            "4\n",
            "5\n",
            "6\n",
            "7\n",
            "8\n",
            "9\n",
            "10\n"
          ]
        }
      ]
    },
    {
      "cell_type": "markdown",
      "source": [
        "Q13. Write a Python program to find the sum of all even numbers between 1 and 50.\n"
      ],
      "metadata": {
        "id": "ZobcVM8r7OLH"
      }
    },
    {
      "cell_type": "code",
      "source": [
        "sum=0\n",
        "for i in range(1,51,2):\n",
        "  sum+=i\n",
        "print(sum)"
      ],
      "metadata": {
        "colab": {
          "base_uri": "https://localhost:8080/"
        },
        "id": "6LAljAMp7Y1l",
        "outputId": "b4b6ac2a-8307-4374-f4b6-c81344b0f628"
      },
      "execution_count": null,
      "outputs": [
        {
          "output_type": "stream",
          "name": "stdout",
          "text": [
            "625\n"
          ]
        }
      ]
    },
    {
      "cell_type": "markdown",
      "source": [
        "Q14.  Write a program to reverse a string using a while loop."
      ],
      "metadata": {
        "id": "mC169aMi9_uG"
      }
    },
    {
      "cell_type": "code",
      "source": [
        "reverse = input(\"enter a string: \")\n",
        "while reverse:\n",
        "    print(reverse[-1])\n",
        "    reverse = reverse[:-1]"
      ],
      "metadata": {
        "id": "i47QkDP8yP5v",
        "colab": {
          "base_uri": "https://localhost:8080/"
        },
        "outputId": "880245bf-05d6-4512-d11b-9a2a8d30944e"
      },
      "execution_count": 3,
      "outputs": [
        {
          "output_type": "stream",
          "name": "stdout",
          "text": [
            "enter a string: qwerty\n",
            "y\n",
            "t\n",
            "r\n",
            "e\n",
            "w\n",
            "q\n"
          ]
        }
      ]
    },
    {
      "cell_type": "markdown",
      "source": [
        "Q15. Write a Python program to calculate the factorial of a number provided by the user using a while loop."
      ],
      "metadata": {
        "id": "U5EMZ7FR_hzC"
      }
    },
    {
      "cell_type": "code",
      "source": [
        "num = int(input(\"enter a number: \"))\n",
        "factorial = 1\n",
        "while num > 0:\n",
        "    factorial *= num\n",
        "    num -= 1\n",
        "print(factorial)"
      ],
      "metadata": {
        "id": "DLh40N6X_lUe",
        "colab": {
          "base_uri": "https://localhost:8080/"
        },
        "outputId": "ed4f927b-c877-46c8-cbef-dad876992942"
      },
      "execution_count": 1,
      "outputs": [
        {
          "output_type": "stream",
          "name": "stdout",
          "text": [
            "enter a number: 4\n",
            "24\n"
          ]
        }
      ]
    }
  ]
}