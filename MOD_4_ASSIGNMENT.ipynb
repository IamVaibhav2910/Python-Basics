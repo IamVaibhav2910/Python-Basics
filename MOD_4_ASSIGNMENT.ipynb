{
  "nbformat": 4,
  "nbformat_minor": 0,
  "metadata": {
    "colab": {
      "provenance": []
    },
    "kernelspec": {
      "name": "python3",
      "display_name": "Python 3"
    },
    "language_info": {
      "name": "python"
    }
  },
  "cells": [
    {
      "cell_type": "markdown",
      "source": [
        "# Data Types and Structures"
      ],
      "metadata": {
        "id": "ul3wNBVxYgNq"
      }
    },
    {
      "cell_type": "markdown",
      "source": [
        "## **Theoritical Questions**"
      ],
      "metadata": {
        "id": "0oQ59Wn0c1To"
      }
    },
    {
      "cell_type": "markdown",
      "source": [
        "Q1. What are data structures, and why are they important?\n",
        "- Data Structure are the specialized formats for organizing, storing and accessing collection of data.\n",
        "- It is important as it impacts the effeciency and performance of the program by choosing the right data structure. It also optimize searching and sorting operations and also conserves the memory usage."
      ],
      "metadata": {
        "id": "OLcDFa9jc1Pr"
      }
    },
    {
      "cell_type": "markdown",
      "source": [
        "Q2.  Explain the difference between mutable and immutable data types with examples?\n",
        "- Mutable data types are those in which data can be edited or changed where as in Immutable data types, the data cannot be changed or edited at any cost. Data which is stored in the form of 'LISTS' or 'DICTIONARIES' can be mutable and data of 'TUPLES' and 'STRINGS' are immutable."
      ],
      "metadata": {
        "id": "PgPAT9QLc1N4"
      }
    },
    {
      "cell_type": "markdown",
      "source": [
        "Q3. What are the main differences between lists and tuples in Python?\n",
        "-  One of the main difference is that LISTS are mutable where as TUPLES are immutable. In LISTS you can add, modify or remove the data within the list with the help of indexing and slicing but in TUPLES you can only access the data by Indexing, you cannot modify the content."
      ],
      "metadata": {
        "id": "jlw2-CVOc1LZ"
      }
    },
    {
      "cell_type": "markdown",
      "source": [
        "Q4. Describe how dictionaries store data?\n",
        "- In Dictionaries, the elements are not stored in the specific order. Each key has a unique value but both keys and values are of various data types such as strings, numbers, lists, etc..."
      ],
      "metadata": {
        "id": "NXBeGCWBc1Iw"
      }
    },
    {
      "cell_type": "markdown",
      "source": [
        "Q5. Why might you use a set instead of a list in Python?\n",
        "- We use SET instead of a LIST in python because SETS are  immutable and cannot allows duplicates. All the elements of SETS are unique."
      ],
      "metadata": {
        "id": "f65pAV5Bc1GJ"
      }
    },
    {
      "cell_type": "markdown",
      "source": [
        "Q6. What is a string in Python, and how is it different from a list?\n",
        "- String can be a sentence. a word, a paragraph or a piece of material whose characters are arranged in unchangable order. STRING is different from LIST as list is mutable and string is immutable."
      ],
      "metadata": {
        "id": "2kvG1qKfc1CC"
      }
    },
    {
      "cell_type": "markdown",
      "source": [
        "Q7. How do tuples ensure data integrity in Python?\n",
        "- TUPLES are immutable collection of elements. Once a tuple is created, it cannot be changed. This is one of the secure method to store data without modifying it."
      ],
      "metadata": {
        "id": "QgjikR6zc0_2"
      }
    },
    {
      "cell_type": "markdown",
      "source": [
        "Q8. What is a hash table, and how does it relate to dictionaries in Python?\n",
        "- A hash table is a collection of associated pairs of items where each pair consists of a key and a value. Hash tables are often called the more general term map because the associated hash function “maps” the key to the value. When a key-value pair is inserted, the hash function calculates an index for the key, and the value is stored at that location. When retrieving a value, the same hash function is applied to the key to quickly locate its corresponding value."
      ],
      "metadata": {
        "id": "YmDtLbhcc0-S"
      }
    },
    {
      "cell_type": "markdown",
      "source": [
        "Q9. Can lists contain different data types in Python?\n",
        "- YES, Lists contains different data types in Python."
      ],
      "metadata": {
        "id": "5LGgB62Mc071"
      }
    },
    {
      "cell_type": "markdown",
      "source": [
        "Q10.  Explain why strings are immutable in Python?\n",
        "- STRINGS are immutable in python because each character in the string can be accessed by its index, or position."
      ],
      "metadata": {
        "id": "22dnqLV9c03C"
      }
    },
    {
      "cell_type": "markdown",
      "source": [
        "Q11. What advantages do dictionaries offer over lists for certain tasks?\n",
        "- Dictionaries offer lists for certain tasks as DICTIONARIES provides a unique key for representing a particular value which becomes very helpful to find a quick value with the help of its Key."
      ],
      "metadata": {
        "id": "MNerWmkKc01o"
      }
    },
    {
      "cell_type": "markdown",
      "source": [
        "Q12. Describe a scenario where using a tuple would be preferable over a list?\n",
        "- In an office, the attendence of employees can be marked with the help of tuples over a list because TUPLES are immutable and the data also cannot be modified."
      ],
      "metadata": {
        "id": "m9nBL1L_c0zx"
      }
    },
    {
      "cell_type": "markdown",
      "source": [
        ":Q13. How do sets handle duplicate values in Python?\n",
        "- Sets does not allow duplicate entries in Python. All elements are unique and unordered."
      ],
      "metadata": {
        "id": "DfERpzn9c0xr"
      }
    },
    {
      "cell_type": "markdown",
      "source": [
        "Q14. How does the “in” keyword work differently for lists and dictionaries?\n",
        "- \"IN\" keyword work for LISTS to find a value in list or present in list and for DICTIONARY it checks the membership operations,also use in iteration for loop."
      ],
      "metadata": {
        "id": "_bENdtrXc0vr"
      }
    },
    {
      "cell_type": "markdown",
      "source": [
        "Q15. Can you modify the elements of a tuple? Explain why or why not?\n",
        "- NO, you cannot modify the elements of a TUPLE because it is immutable and used to represent fixed dataset."
      ],
      "metadata": {
        "id": "gxgw_K3Kc0tN"
      }
    },
    {
      "cell_type": "markdown",
      "source": [
        "Q16. What is a nested dictionary, and give an example of its use case?\n",
        "- In Nested Dictionary, a dictionary contains another dictionary as its value or we can say that a dictionary within a dictionary. Example:- Storing data of multiple students by creating student name as a key and their information (name, age, gender) as another inner dictionary."
      ],
      "metadata": {
        "id": "v5kLHUPZc0p_"
      }
    },
    {
      "cell_type": "markdown",
      "source": [
        "Q17.  Describe the time complexity of accessing elements in a dictionary?\n",
        "- Accessing elements in a dictionary (or hash table) typically has a time complexity of O(1) on average. This means that the time it takes to retrieve a value by its key is, on average, constant and doesn't depend on the size of the dictionary. However, in the worst-case scenario (which is rare), the time complexity can be O(n), where n is the number of elements in the dictionary, due to hash collisions."
      ],
      "metadata": {
        "id": "z_CrXBAwc0no"
      }
    },
    {
      "cell_type": "markdown",
      "source": [
        "Q18. In what situations are lists preferred over dictionaries?\n",
        "- Lists are faster for index-based access, whereas dictionary lookups require computing a hash. Dictionaries require more memory, as they store keys along with values, unlike lists."
      ],
      "metadata": {
        "id": "d0hZhmNSc0kC"
      }
    },
    {
      "cell_type": "markdown",
      "source": [
        "Q19. Why are dictionaries considered unordered, and how does that affect data retrieval?\n",
        "- A dictionary is an unordered collection of objects because dictionaries do not maintain any order of the items based on when they were added. Dictionaries are retrieve values when the key is known."
      ],
      "metadata": {
        "id": "B8tGzK2xc0h8"
      }
    },
    {
      "cell_type": "markdown",
      "source": [
        "Q20. Explain the difference between a list and a dictionary in terms of data retrieval.\n",
        "- A list is an ordered collection of items, whereas a dictionary is an unordered data collection in a key: value pair. Elements from the list can be accessed using the index, while the elements of the dictionary can be accessed using keys."
      ],
      "metadata": {
        "id": "cFytmeAsc0f9"
      }
    },
    {
      "cell_type": "markdown",
      "source": [
        "## **Practical Questions**\n"
      ],
      "metadata": {
        "id": "7xvfEEjNbQ8q"
      }
    },
    {
      "cell_type": "markdown",
      "source": [
        "Q1. Write a code to create a string with your name and print it"
      ],
      "metadata": {
        "id": "NuihKqNWbc_g"
      }
    },
    {
      "cell_type": "code",
      "source": [
        "Name=(\"VAIBHAV\")\n",
        "print(Name)\n",
        "type(Name)"
      ],
      "metadata": {
        "colab": {
          "base_uri": "https://localhost:8080/"
        },
        "id": "p3gSWLLRbdPd",
        "outputId": "c2a54e7f-d8f2-4089-e7d4-609c6e5aba81"
      },
      "execution_count": 72,
      "outputs": [
        {
          "output_type": "stream",
          "name": "stdout",
          "text": [
            "VAIBHAV\n"
          ]
        },
        {
          "output_type": "execute_result",
          "data": {
            "text/plain": [
              "str"
            ]
          },
          "metadata": {},
          "execution_count": 72
        }
      ]
    },
    {
      "cell_type": "markdown",
      "source": [
        "Q2. Write a code to find the length of the string \"Hello World\""
      ],
      "metadata": {
        "id": "votYguXHbdYX"
      }
    },
    {
      "cell_type": "code",
      "source": [
        "a=(\"Hello World\")\n",
        "len(a)"
      ],
      "metadata": {
        "colab": {
          "base_uri": "https://localhost:8080/"
        },
        "id": "zRK0PtLEbdgl",
        "outputId": "6deb2e73-89ed-4af3-9973-4fbd4016f99d"
      },
      "execution_count": 73,
      "outputs": [
        {
          "output_type": "execute_result",
          "data": {
            "text/plain": [
              "11"
            ]
          },
          "metadata": {},
          "execution_count": 73
        }
      ]
    },
    {
      "cell_type": "markdown",
      "source": [
        "Q3. Write a code to slice the first 3 characters from the string \"Python Programming\"."
      ],
      "metadata": {
        "id": "DQxZcY0Lbdot"
      }
    },
    {
      "cell_type": "code",
      "source": [
        "b=\"Python Programming\"\n",
        "b[0:3]"
      ],
      "metadata": {
        "colab": {
          "base_uri": "https://localhost:8080/",
          "height": 37
        },
        "id": "HQOFTiKpbdv8",
        "outputId": "f9788af4-c3bf-48bc-9550-4d3e9072aedb"
      },
      "execution_count": 74,
      "outputs": [
        {
          "output_type": "execute_result",
          "data": {
            "text/plain": [
              "'Pyt'"
            ],
            "application/vnd.google.colaboratory.intrinsic+json": {
              "type": "string"
            }
          },
          "metadata": {},
          "execution_count": 74
        }
      ]
    },
    {
      "cell_type": "markdown",
      "source": [
        "Q4. Write a code to convert the string \"hello\" to uppercase."
      ],
      "metadata": {
        "id": "eps3x76Obd3h"
      }
    },
    {
      "cell_type": "code",
      "source": [
        "hey=\"hello\"\n",
        "hey.upper()"
      ],
      "metadata": {
        "colab": {
          "base_uri": "https://localhost:8080/",
          "height": 37
        },
        "id": "SBa1XdZGbd_E",
        "outputId": "154e0802-7cf5-4001-e678-0c8573be1965"
      },
      "execution_count": 75,
      "outputs": [
        {
          "output_type": "execute_result",
          "data": {
            "text/plain": [
              "'HELLO'"
            ],
            "application/vnd.google.colaboratory.intrinsic+json": {
              "type": "string"
            }
          },
          "metadata": {},
          "execution_count": 75
        }
      ]
    },
    {
      "cell_type": "markdown",
      "source": [
        "Q5. Write a code to replace the word \"apple\" with \"orange\" in the string \"I like apple\"."
      ],
      "metadata": {
        "id": "HQdb6wMLbeGo"
      }
    },
    {
      "cell_type": "code",
      "source": [
        "sentence=\"I like apple\"\n",
        "sentence.replace(\"apple\", \"orange\")"
      ],
      "metadata": {
        "colab": {
          "base_uri": "https://localhost:8080/",
          "height": 37
        },
        "id": "f3jbV_iHbeNy",
        "outputId": "e2160a4e-74b8-4e9b-9444-afc513e1b621"
      },
      "execution_count": 76,
      "outputs": [
        {
          "output_type": "execute_result",
          "data": {
            "text/plain": [
              "'I like orange'"
            ],
            "application/vnd.google.colaboratory.intrinsic+json": {
              "type": "string"
            }
          },
          "metadata": {},
          "execution_count": 76
        }
      ]
    },
    {
      "cell_type": "markdown",
      "source": [
        "Q6. Write a code to create a list with numbers 1 to 5 and print it."
      ],
      "metadata": {
        "id": "01-ZdEN5beVR"
      }
    },
    {
      "cell_type": "code",
      "source": [
        "num=[1,2,3,4,5]\n",
        "print(num)"
      ],
      "metadata": {
        "colab": {
          "base_uri": "https://localhost:8080/"
        },
        "id": "Ta8LSBx_bebq",
        "outputId": "2e996846-8136-4e7b-ca31-ad8580589b11"
      },
      "execution_count": 77,
      "outputs": [
        {
          "output_type": "stream",
          "name": "stdout",
          "text": [
            "[1, 2, 3, 4, 5]\n"
          ]
        }
      ]
    },
    {
      "cell_type": "markdown",
      "source": [
        "Q7. Write a code to append the number 10 to the list [1, 2, 3, 4]"
      ],
      "metadata": {
        "id": "GbamZV-Nbh0w"
      }
    },
    {
      "cell_type": "code",
      "source": [
        "num_1=[1,2,3,4]\n",
        "num_1.append(10)\n",
        "print(num_1)"
      ],
      "metadata": {
        "colab": {
          "base_uri": "https://localhost:8080/"
        },
        "id": "FhI7JD_2bh8L",
        "outputId": "3b51cfb6-f1a6-4950-dd50-c93cfecc8ed2"
      },
      "execution_count": 78,
      "outputs": [
        {
          "output_type": "stream",
          "name": "stdout",
          "text": [
            "[1, 2, 3, 4, 10]\n"
          ]
        }
      ]
    },
    {
      "cell_type": "markdown",
      "source": [
        "Q8. Write a code to remove the number 3 from the list [1, 2, 3, 4, 5]"
      ],
      "metadata": {
        "id": "QR2wmCd3biCu"
      }
    },
    {
      "cell_type": "code",
      "source": [
        "numlist=[1,2,3,4,5]\n",
        "numlist.remove(3)\n",
        "print(numlist)"
      ],
      "metadata": {
        "colab": {
          "base_uri": "https://localhost:8080/"
        },
        "id": "1aHupxo-biIt",
        "outputId": "99b060f7-c4bd-41ab-937e-866ba880424b"
      },
      "execution_count": 79,
      "outputs": [
        {
          "output_type": "stream",
          "name": "stdout",
          "text": [
            "[1, 2, 4, 5]\n"
          ]
        }
      ]
    },
    {
      "cell_type": "markdown",
      "source": [
        "Q9. Write a code to access the second element in the list ['a', 'b', 'c', 'd']"
      ],
      "metadata": {
        "id": "J8Osna-WbiRA"
      }
    },
    {
      "cell_type": "code",
      "source": [
        "list_9=['a', 'b', 'c', 'd']\n",
        "list_9[1]\n"
      ],
      "metadata": {
        "colab": {
          "base_uri": "https://localhost:8080/",
          "height": 37
        },
        "id": "mxtFamzmbiYD",
        "outputId": "6b68c813-9e49-4819-9cac-4f34f11d2ac8"
      },
      "execution_count": 80,
      "outputs": [
        {
          "output_type": "execute_result",
          "data": {
            "text/plain": [
              "'b'"
            ],
            "application/vnd.google.colaboratory.intrinsic+json": {
              "type": "string"
            }
          },
          "metadata": {},
          "execution_count": 80
        }
      ]
    },
    {
      "cell_type": "markdown",
      "source": [
        "Q10.  Write a code to reverse the list [10, 20, 30, 40, 50]."
      ],
      "metadata": {
        "id": "KqOW1m3WbifU"
      }
    },
    {
      "cell_type": "code",
      "source": [
        "list_10=[10,20,30,40,50]\n",
        "list_10.reverse()\n",
        "print(list_10)"
      ],
      "metadata": {
        "colab": {
          "base_uri": "https://localhost:8080/"
        },
        "id": "vl982SuMbim0",
        "outputId": "678bd6d3-738d-476a-ac0b-07948eab4b0e"
      },
      "execution_count": 81,
      "outputs": [
        {
          "output_type": "stream",
          "name": "stdout",
          "text": [
            "[50, 40, 30, 20, 10]\n"
          ]
        }
      ]
    },
    {
      "cell_type": "markdown",
      "source": [
        "Q11. Write a code to create a tuple with the elements 100, 200, 300 and print it."
      ],
      "metadata": {
        "id": "Tlint2DDbit9"
      }
    },
    {
      "cell_type": "code",
      "source": [
        "num_11=(100, 200, 300)\n",
        "print(num_11)\n",
        "type(num_11)"
      ],
      "metadata": {
        "colab": {
          "base_uri": "https://localhost:8080/"
        },
        "id": "BTBT3ztTbi0u",
        "outputId": "8fc8573f-9b19-48aa-ca48-f340e1d15854"
      },
      "execution_count": 82,
      "outputs": [
        {
          "output_type": "stream",
          "name": "stdout",
          "text": [
            "(100, 200, 300)\n"
          ]
        },
        {
          "output_type": "execute_result",
          "data": {
            "text/plain": [
              "tuple"
            ]
          },
          "metadata": {},
          "execution_count": 82
        }
      ]
    },
    {
      "cell_type": "markdown",
      "source": [
        "Q12. Write a code to access the second-to-last element of the tuple ('red', 'green', 'blue', 'yellow')."
      ],
      "metadata": {
        "id": "rTXxRvCDbi8A"
      }
    },
    {
      "cell_type": "code",
      "source": [
        "tuple_12=('red', 'green', 'blue', 'yellow')\n",
        "tuple_12[-2]"
      ],
      "metadata": {
        "colab": {
          "base_uri": "https://localhost:8080/",
          "height": 37
        },
        "id": "DZPe5R5ubjFD",
        "outputId": "7f7f4486-c144-4076-b443-b34d98be5379"
      },
      "execution_count": 83,
      "outputs": [
        {
          "output_type": "execute_result",
          "data": {
            "text/plain": [
              "'blue'"
            ],
            "application/vnd.google.colaboratory.intrinsic+json": {
              "type": "string"
            }
          },
          "metadata": {},
          "execution_count": 83
        }
      ]
    },
    {
      "cell_type": "markdown",
      "source": [
        "Q13. Write a code to find the minimum number in the tuple (10, 20, 5, 15)."
      ],
      "metadata": {
        "id": "6ACKEequbjLs"
      }
    },
    {
      "cell_type": "code",
      "source": [
        "num_13=(10, 20, 5, 15)\n",
        "min(num_13)"
      ],
      "metadata": {
        "colab": {
          "base_uri": "https://localhost:8080/"
        },
        "id": "DZQynwJmbjTW",
        "outputId": "22331694-264c-4038-d287-c9e302f65960"
      },
      "execution_count": 84,
      "outputs": [
        {
          "output_type": "execute_result",
          "data": {
            "text/plain": [
              "5"
            ]
          },
          "metadata": {},
          "execution_count": 84
        }
      ]
    },
    {
      "cell_type": "markdown",
      "source": [
        "Q14. Write a code to find the index of the element \"cat\" in the tuple ('dog', 'cat', 'rabbit')."
      ],
      "metadata": {
        "id": "igoKQxV_bjZz"
      }
    },
    {
      "cell_type": "code",
      "source": [
        "tuple_14= ('dog', 'cat', 'rabbit')\n",
        "tuple_14.index(\"cat\")"
      ],
      "metadata": {
        "colab": {
          "base_uri": "https://localhost:8080/"
        },
        "id": "3Rd1YofJbjg8",
        "outputId": "2c4da2d6-6bd7-49c2-c539-0a2513cb1f30"
      },
      "execution_count": 85,
      "outputs": [
        {
          "output_type": "execute_result",
          "data": {
            "text/plain": [
              "1"
            ]
          },
          "metadata": {},
          "execution_count": 85
        }
      ]
    },
    {
      "cell_type": "markdown",
      "source": [
        "Q15. Write a code to create a tuple containing three different fruits and check if \"kiwi\" is in it."
      ],
      "metadata": {
        "id": "-OzUGjd3hx5Q"
      }
    },
    {
      "cell_type": "code",
      "source": [
        "tuple_15=('apple', 'grapes', 'kiwi')\n",
        "\"kiwi\" in tuple_15"
      ],
      "metadata": {
        "colab": {
          "base_uri": "https://localhost:8080/"
        },
        "id": "Jb2TnUsUhyCL",
        "outputId": "8ef30714-8d7d-4d3e-9287-3efa28cb41f5"
      },
      "execution_count": 86,
      "outputs": [
        {
          "output_type": "execute_result",
          "data": {
            "text/plain": [
              "True"
            ]
          },
          "metadata": {},
          "execution_count": 86
        }
      ]
    },
    {
      "cell_type": "markdown",
      "source": [
        "Q16. Write a code to create a set with the elements 'a', 'b', 'c' and print it."
      ],
      "metadata": {
        "id": "-dwLyT4EhyMm"
      }
    },
    {
      "cell_type": "code",
      "source": [
        "set_16={'a', 'b', 'c'}\n",
        "print(set_16)\n",
        "type(set_16)"
      ],
      "metadata": {
        "colab": {
          "base_uri": "https://localhost:8080/"
        },
        "id": "TMlhBc60hyYj",
        "outputId": "56d1893e-d388-4ea0-ee5d-19df2e37e48b"
      },
      "execution_count": 87,
      "outputs": [
        {
          "output_type": "stream",
          "name": "stdout",
          "text": [
            "{'a', 'c', 'b'}\n"
          ]
        },
        {
          "output_type": "execute_result",
          "data": {
            "text/plain": [
              "set"
            ]
          },
          "metadata": {},
          "execution_count": 87
        }
      ]
    },
    {
      "cell_type": "markdown",
      "source": [
        "Q17. Write a code to clear all elements from the set {1, 2, 3, 4, 5}."
      ],
      "metadata": {
        "id": "mx4o7tkchyjF"
      }
    },
    {
      "cell_type": "code",
      "source": [
        "set_17={1, 2, 3, 4, 5}\n",
        "set_17.clear()\n",
        "print(set_17)"
      ],
      "metadata": {
        "colab": {
          "base_uri": "https://localhost:8080/"
        },
        "id": "riVRLPCuhyrF",
        "outputId": "e2415ad5-906e-4643-b3ce-06eeb9c053f7"
      },
      "execution_count": 88,
      "outputs": [
        {
          "output_type": "stream",
          "name": "stdout",
          "text": [
            "set()\n"
          ]
        }
      ]
    },
    {
      "cell_type": "markdown",
      "source": [
        "Q18. Write a code to remove the element 4 from the set {1, 2, 3, 4}."
      ],
      "metadata": {
        "id": "NAXMQ_uJhyze"
      }
    },
    {
      "cell_type": "code",
      "source": [
        "set_18={1, 2, 3, 4}\n",
        "set_18.remove(4)\n",
        "print(set_18)"
      ],
      "metadata": {
        "colab": {
          "base_uri": "https://localhost:8080/"
        },
        "id": "HhLQfIMThy69",
        "outputId": "c9db806d-cb4b-4607-d82a-9895e1d01786"
      },
      "execution_count": 89,
      "outputs": [
        {
          "output_type": "stream",
          "name": "stdout",
          "text": [
            "{1, 2, 3}\n"
          ]
        }
      ]
    },
    {
      "cell_type": "markdown",
      "source": [
        "Q19. Write a code to find the union of two sets {1, 2, 3} and {3, 4, 5}."
      ],
      "metadata": {
        "id": "T_SRPOCthzCK"
      }
    },
    {
      "cell_type": "code",
      "source": [
        "set_19_1={1, 2, 3}\n",
        "set_19_2={3, 4, 5}\n",
        "set_19_1 | set_19_2"
      ],
      "metadata": {
        "colab": {
          "base_uri": "https://localhost:8080/"
        },
        "id": "c0RPuL9dhzJv",
        "outputId": "c2122ea1-e971-4eac-cc3e-acb769ecf0a1"
      },
      "execution_count": 90,
      "outputs": [
        {
          "output_type": "execute_result",
          "data": {
            "text/plain": [
              "{1, 2, 3, 4, 5}"
            ]
          },
          "metadata": {},
          "execution_count": 90
        }
      ]
    },
    {
      "cell_type": "markdown",
      "source": [
        "Q20. Write a code to find the intersection of two sets {1, 2, 3} and {2, 3, 4}."
      ],
      "metadata": {
        "id": "9SXzpoymhzQx"
      }
    },
    {
      "cell_type": "code",
      "source": [
        "set_20_1={1, 2, 3}\n",
        "set_20_2={2, 3, 4}\n",
        "set_20_1 & set_20_2"
      ],
      "metadata": {
        "colab": {
          "base_uri": "https://localhost:8080/"
        },
        "id": "Bz2TJ2Ethzad",
        "outputId": "85890240-307f-4225-f233-236e86fa5e8c"
      },
      "execution_count": 91,
      "outputs": [
        {
          "output_type": "execute_result",
          "data": {
            "text/plain": [
              "{2, 3}"
            ]
          },
          "metadata": {},
          "execution_count": 91
        }
      ]
    },
    {
      "cell_type": "markdown",
      "source": [
        "Q21. Write a code to create a dictionary with the keys \"name\", \"age\", and \"city\", and print it."
      ],
      "metadata": {
        "id": "UgTUCA46hzit"
      }
    },
    {
      "cell_type": "code",
      "source": [
        "dict_21={'name':'VAIBHAV', 'age':21, 'city':'JAMMU'}\n",
        "print(dict_21)\n",
        "type(dict_21)"
      ],
      "metadata": {
        "colab": {
          "base_uri": "https://localhost:8080/"
        },
        "id": "LfeQFODthzqf",
        "outputId": "7c43b385-b17f-4467-bac4-8b24ecb8edbd"
      },
      "execution_count": 92,
      "outputs": [
        {
          "output_type": "stream",
          "name": "stdout",
          "text": [
            "{'name': 'VAIBHAV', 'age': 21, 'city': 'JAMMU'}\n"
          ]
        },
        {
          "output_type": "execute_result",
          "data": {
            "text/plain": [
              "dict"
            ]
          },
          "metadata": {},
          "execution_count": 92
        }
      ]
    },
    {
      "cell_type": "markdown",
      "source": [
        "Q22. Write a code to add a new key-value pair \"country\": \"USA\" to the dictionary {'name': 'John', 'age': 25}."
      ],
      "metadata": {
        "id": "cOlkOy7LhzyE"
      }
    },
    {
      "cell_type": "code",
      "source": [
        "dict_22={'name':'VAIBHAV', 'age':21}\n",
        "dict_22['country']='USA'\n",
        "print(dict_22)"
      ],
      "metadata": {
        "colab": {
          "base_uri": "https://localhost:8080/"
        },
        "id": "tr8LfGU5hz6K",
        "outputId": "ff991a03-5323-43a3-e4ef-d0c202c9b142"
      },
      "execution_count": 93,
      "outputs": [
        {
          "output_type": "stream",
          "name": "stdout",
          "text": [
            "{'name': 'VAIBHAV', 'age': 21, 'country': 'USA'}\n"
          ]
        }
      ]
    },
    {
      "cell_type": "markdown",
      "source": [
        "Q23. Write a code to access the value associated with the key \"name\" in the dictionary {'name': 'Alice', 'age': 30}."
      ],
      "metadata": {
        "id": "YCqgApZih0A3"
      }
    },
    {
      "cell_type": "code",
      "source": [
        "dict_23={'name':'ALICE', 'AGE':30}\n",
        "dict_23[\"name\"]"
      ],
      "metadata": {
        "colab": {
          "base_uri": "https://localhost:8080/",
          "height": 37
        },
        "id": "zcM2PZ0Jh0IV",
        "outputId": "08227ec0-1eda-4e9f-e80f-e191f528dd06"
      },
      "execution_count": 94,
      "outputs": [
        {
          "output_type": "execute_result",
          "data": {
            "text/plain": [
              "'ALICE'"
            ],
            "application/vnd.google.colaboratory.intrinsic+json": {
              "type": "string"
            }
          },
          "metadata": {},
          "execution_count": 94
        }
      ]
    },
    {
      "cell_type": "markdown",
      "source": [
        "Q24. Write a code to remove the key \"age\" from the dictionary {'name': 'Bob', 'age': 22, 'city': 'New York'}."
      ],
      "metadata": {
        "id": "GVXjm7Vqh0QD"
      }
    },
    {
      "cell_type": "code",
      "source": [
        "dict_24={'name': 'Bob', 'age': 22, 'city': 'New York'}\n",
        "del dict_24['age']\n",
        "print(dict_24)"
      ],
      "metadata": {
        "colab": {
          "base_uri": "https://localhost:8080/"
        },
        "id": "d7Gbgo9Ph0XT",
        "outputId": "998981f7-d70b-4f42-8134-4420e0d33e38"
      },
      "execution_count": 95,
      "outputs": [
        {
          "output_type": "stream",
          "name": "stdout",
          "text": [
            "{'name': 'Bob', 'city': 'New York'}\n"
          ]
        }
      ]
    },
    {
      "cell_type": "markdown",
      "source": [
        "Q25. Write a code to check if the key \"city\" exists in the dictionary {'name': 'Alice', 'city': 'Paris'}."
      ],
      "metadata": {
        "id": "1dc0-jT2h0fL"
      }
    },
    {
      "cell_type": "code",
      "source": [
        "dict_25={'name': 'Alice', 'city': 'Paris'}\n",
        "'city' in dict_25"
      ],
      "metadata": {
        "colab": {
          "base_uri": "https://localhost:8080/"
        },
        "id": "V64wcIJvh0mY",
        "outputId": "33954c6a-839e-487f-8fb3-5390419a4f00"
      },
      "execution_count": 96,
      "outputs": [
        {
          "output_type": "execute_result",
          "data": {
            "text/plain": [
              "True"
            ]
          },
          "metadata": {},
          "execution_count": 96
        }
      ]
    },
    {
      "cell_type": "markdown",
      "source": [
        "Q26. Write a code to create a list, a tuple, and a dictionary, and print them all."
      ],
      "metadata": {
        "id": "x6g9epy4h0tX"
      }
    },
    {
      "cell_type": "code",
      "source": [
        "list_26=['Vaibhav', False, 100]\n",
        "tuple_26=('Vaibhav', True, 3.9)\n",
        "dict_26={'Name':'VAIBHAV', 'Age':21, 'City':'JAMMU'}\n",
        "print(list_26)\n",
        "print(tuple_26)\n",
        "print(dict_26)"
      ],
      "metadata": {
        "colab": {
          "base_uri": "https://localhost:8080/"
        },
        "id": "kBs1gFVJh00l",
        "outputId": "4bf23f68-facb-4ebc-98cd-1b73412876f8"
      },
      "execution_count": 97,
      "outputs": [
        {
          "output_type": "stream",
          "name": "stdout",
          "text": [
            "['Vaibhav', False, 100]\n",
            "('Vaibhav', True, 3.9)\n",
            "{'Name': 'VAIBHAV', 'Age': 21, 'City': 'JAMMU'}\n"
          ]
        }
      ]
    },
    {
      "cell_type": "markdown",
      "source": [
        "Q27. Write a code to create a list of 5 random numbers between 1 and 100, sort it in ascending order, and print the result.(replaced)"
      ],
      "metadata": {
        "id": "8aABEcPqh07d"
      }
    },
    {
      "cell_type": "code",
      "source": [
        "list_27=[22, 45, 1, 89, 99]\n",
        "list_27.sort()\n",
        "print(list_27)"
      ],
      "metadata": {
        "colab": {
          "base_uri": "https://localhost:8080/"
        },
        "id": "oCEcKq_Bh1CQ",
        "outputId": "120fbc76-0039-42e6-c84f-6410aff78af6"
      },
      "execution_count": 98,
      "outputs": [
        {
          "output_type": "stream",
          "name": "stdout",
          "text": [
            "[1, 22, 45, 89, 99]\n"
          ]
        }
      ]
    },
    {
      "cell_type": "markdown",
      "source": [
        "Q28. Write a code to create a list with strings and print the element at the third index."
      ],
      "metadata": {
        "id": "bebZ0-ZMh1Iz"
      }
    },
    {
      "cell_type": "code",
      "source": [
        "list_28=['Car', 'Bike', 'Bus', 'Truck', 'Cycle']\n",
        "list_28[2]"
      ],
      "metadata": {
        "colab": {
          "base_uri": "https://localhost:8080/",
          "height": 37
        },
        "id": "B1FIO0Rkh1QD",
        "outputId": "ec723091-b3b9-4211-accd-a7140d16c32d"
      },
      "execution_count": 99,
      "outputs": [
        {
          "output_type": "execute_result",
          "data": {
            "text/plain": [
              "'Bus'"
            ],
            "application/vnd.google.colaboratory.intrinsic+json": {
              "type": "string"
            }
          },
          "metadata": {},
          "execution_count": 99
        }
      ]
    },
    {
      "cell_type": "markdown",
      "source": [
        "Q29. Write a code to combine two dictionaries into one and print the result."
      ],
      "metadata": {
        "id": "kgYtOnvch1Wx"
      }
    },
    {
      "cell_type": "code",
      "source": [
        "dict_29_1={'a':1, 'b':2}\n",
        "dict_29_2={'c':3, 'd':4}\n",
        "dict_29_1.update(dict_29_2)\n",
        "print(dict_29_1)"
      ],
      "metadata": {
        "colab": {
          "base_uri": "https://localhost:8080/"
        },
        "id": "2Hi6Prn5h1d0",
        "outputId": "23ed4a44-f71a-481e-bccd-554c0c923248"
      },
      "execution_count": 100,
      "outputs": [
        {
          "output_type": "stream",
          "name": "stdout",
          "text": [
            "{'a': 1, 'b': 2, 'c': 3, 'd': 4}\n"
          ]
        }
      ]
    },
    {
      "cell_type": "markdown",
      "source": [
        "Q30. Write a code to convert a list of strings into a set."
      ],
      "metadata": {
        "id": "RjMqO7uth1kb"
      }
    },
    {
      "cell_type": "code",
      "source": [
        "list_30=['Boy', 'Girl', 'Man', 'Woman', 'Boy', 'Man']\n",
        "set(list_30)"
      ],
      "metadata": {
        "colab": {
          "base_uri": "https://localhost:8080/"
        },
        "id": "FxRVPPlHh1p_",
        "outputId": "35d0fa01-7b38-48e5-cde4-f294ee16394e"
      },
      "execution_count": 101,
      "outputs": [
        {
          "output_type": "execute_result",
          "data": {
            "text/plain": [
              "{'Boy', 'Girl', 'Man', 'Woman'}"
            ]
          },
          "metadata": {},
          "execution_count": 101
        }
      ]
    }
  ]
}